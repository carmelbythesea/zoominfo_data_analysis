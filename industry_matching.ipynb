{
 "cells": [
  {
   "cell_type": "code",
   "execution_count": 1,
   "metadata": {},
   "outputs": [],
   "source": [
    "import numpy as np\n",
    "import pandas as pd\n",
    "import time\n",
    "import matplotlib.pyplot as plt\n",
    "%matplotlib inline"
   ]
  },
  {
   "cell_type": "code",
   "execution_count": 2,
   "metadata": {},
   "outputs": [],
   "source": [
    "import string\n",
    "from collections import Counter"
   ]
  },
  {
   "cell_type": "code",
   "execution_count": 3,
   "metadata": {},
   "outputs": [],
   "source": [
    "import nltk\n",
    "from nltk.corpus import stopwords\n",
    "from nltk.stem import PorterStemmer \n",
    "from nltk.tokenize import word_tokenize "
   ]
  },
  {
   "cell_type": "code",
   "execution_count": 56,
   "metadata": {},
   "outputs": [],
   "source": [
    "digits = pd.read_csv('digit6.csv')\n",
    "naicscode = pd.read_csv('other_data/NAICS Industry.csv')\n",
    "uc = pd.read_csv('uscan.csv')\n",
    "uc = uc.drop('Unnamed: 0', axis = 1)"
   ]
  },
  {
   "cell_type": "code",
   "execution_count": 5,
   "metadata": {},
   "outputs": [],
   "source": [
    "naics = naicscode.merge(digits,  left_on = 'Sub-Vertical', right_on = 'Industry', how = 'left').rename(columns = \\\n",
    "                                                                                                      {'Industry_x': \\\n",
    "                                                                                                       'Industry'}).drop(\\\n",
    "                                                                                                        'Industry_y', axis = 1)\n",
    "naics = naics.drop_duplicates().reset_index(drop = True)"
   ]
  },
  {
   "cell_type": "code",
   "execution_count": 8,
   "metadata": {},
   "outputs": [],
   "source": [
    "#combined three naics categories\n",
    "combined_naics = naics['Industry'] + ',' + naics['Sub-Vertical']"
   ]
  },
  {
   "cell_type": "code",
   "execution_count": 14,
   "metadata": {},
   "outputs": [
    {
     "data": {
      "text/html": [
       "<div>\n",
       "<style scoped>\n",
       "    .dataframe tbody tr th:only-of-type {\n",
       "        vertical-align: middle;\n",
       "    }\n",
       "\n",
       "    .dataframe tbody tr th {\n",
       "        vertical-align: top;\n",
       "    }\n",
       "\n",
       "    .dataframe thead th {\n",
       "        text-align: right;\n",
       "    }\n",
       "</style>\n",
       "<table border=\"1\" class=\"dataframe\">\n",
       "  <thead>\n",
       "    <tr style=\"text-align: right;\">\n",
       "      <th></th>\n",
       "      <th>Industry</th>\n",
       "      <th>Sub-Vertical</th>\n",
       "    </tr>\n",
       "  </thead>\n",
       "  <tbody>\n",
       "    <tr>\n",
       "      <th>0</th>\n",
       "      <td>Oilseed and Grain Farming</td>\n",
       "      <td>Soybean Farming</td>\n",
       "    </tr>\n",
       "    <tr>\n",
       "      <th>1</th>\n",
       "      <td>Oilseed and Grain Farming</td>\n",
       "      <td>Oilseed (except Soybean) Farming</td>\n",
       "    </tr>\n",
       "    <tr>\n",
       "      <th>2</th>\n",
       "      <td>Oilseed and Grain Farming</td>\n",
       "      <td>Dry Pea and Bean Farming</td>\n",
       "    </tr>\n",
       "    <tr>\n",
       "      <th>3</th>\n",
       "      <td>Oilseed and Grain Farming</td>\n",
       "      <td>Wheat Farming</td>\n",
       "    </tr>\n",
       "    <tr>\n",
       "      <th>4</th>\n",
       "      <td>Oilseed and Grain Farming</td>\n",
       "      <td>Corn Farming</td>\n",
       "    </tr>\n",
       "    <tr>\n",
       "      <th>...</th>\n",
       "      <td>...</td>\n",
       "      <td>...</td>\n",
       "    </tr>\n",
       "    <tr>\n",
       "      <th>1052</th>\n",
       "      <td>Administration of Economic Programs</td>\n",
       "      <td>Regulation of Agricultural Marketing and Commo...</td>\n",
       "    </tr>\n",
       "    <tr>\n",
       "      <th>1053</th>\n",
       "      <td>Administration of Economic Programs</td>\n",
       "      <td>Regulation, Licensing, and Inspection of Misce...</td>\n",
       "    </tr>\n",
       "    <tr>\n",
       "      <th>1054</th>\n",
       "      <td>Space Research and Technology</td>\n",
       "      <td>Space Research and Technology</td>\n",
       "    </tr>\n",
       "    <tr>\n",
       "      <th>1055</th>\n",
       "      <td>National Security and International Affairs</td>\n",
       "      <td>National Security</td>\n",
       "    </tr>\n",
       "    <tr>\n",
       "      <th>1056</th>\n",
       "      <td>National Security and International Affairs</td>\n",
       "      <td>International Affairs</td>\n",
       "    </tr>\n",
       "  </tbody>\n",
       "</table>\n",
       "<p>1057 rows × 2 columns</p>\n",
       "</div>"
      ],
      "text/plain": [
       "                                         Industry  \\\n",
       "0                       Oilseed and Grain Farming   \n",
       "1                       Oilseed and Grain Farming   \n",
       "2                       Oilseed and Grain Farming   \n",
       "3                       Oilseed and Grain Farming   \n",
       "4                       Oilseed and Grain Farming   \n",
       "...                                           ...   \n",
       "1052          Administration of Economic Programs   \n",
       "1053          Administration of Economic Programs   \n",
       "1054                Space Research and Technology   \n",
       "1055  National Security and International Affairs   \n",
       "1056  National Security and International Affairs   \n",
       "\n",
       "                                           Sub-Vertical  \n",
       "0                                       Soybean Farming  \n",
       "1                      Oilseed (except Soybean) Farming  \n",
       "2                              Dry Pea and Bean Farming  \n",
       "3                                         Wheat Farming  \n",
       "4                                          Corn Farming  \n",
       "...                                                 ...  \n",
       "1052  Regulation of Agricultural Marketing and Commo...  \n",
       "1053  Regulation, Licensing, and Inspection of Misce...  \n",
       "1054                      Space Research and Technology  \n",
       "1055                                  National Security  \n",
       "1056                              International Affairs  \n",
       "\n",
       "[1057 rows x 2 columns]"
      ]
     },
     "execution_count": 14,
     "metadata": {},
     "output_type": "execute_result"
    }
   ],
   "source": [
    "naics_ind_sub = naics[['Industry', 'Sub-Vertical']]\n",
    "naics_ind_sub"
   ]
  },
  {
   "cell_type": "code",
   "execution_count": 17,
   "metadata": {},
   "outputs": [],
   "source": [
    "ps = PorterStemmer()\n",
    "def stemming(ls):\n",
    "    return [ps.stem(i) for i in ls]\n",
    "\n",
    "stop_words = set(stopwords.words('english')) \n",
    "\n",
    "def combine_matchInd(row):\n",
    "    if isinstance(row, float): return row\n",
    "    combined = []\n",
    "    for i in row:\n",
    "        if isinstance(i, float): continue\n",
    "        removePunc = i.replace(',', '').replace('&', '').replace('(', '').replace(')', '').split(' ')\n",
    "        removeSpace = stemming([x for x in removePunc if x])\n",
    "        combined += [x for x in removeSpace if x not in stop_words]\n",
    "    return list(set(combined))"
   ]
  },
  {
   "cell_type": "code",
   "execution_count": 19,
   "metadata": {},
   "outputs": [],
   "source": [
    "naics_ind_sub2 = naics_ind_sub.copy()\n",
    "naics_ind_sub2['Industry'] = naics_ind_sub['Industry'].apply(lambda x: x.split(' ')).apply(combine_matchInd)\n",
    "naics_ind_sub2['Sub-Vertical'] = naics_ind_sub['Sub-Vertical'].apply(lambda x: x.split(' ')).apply(combine_matchInd)"
   ]
  },
  {
   "cell_type": "code",
   "execution_count": 21,
   "metadata": {},
   "outputs": [
    {
     "data": {
      "text/html": [
       "<div>\n",
       "<style scoped>\n",
       "    .dataframe tbody tr th:only-of-type {\n",
       "        vertical-align: middle;\n",
       "    }\n",
       "\n",
       "    .dataframe tbody tr th {\n",
       "        vertical-align: top;\n",
       "    }\n",
       "\n",
       "    .dataframe thead th {\n",
       "        text-align: right;\n",
       "    }\n",
       "</style>\n",
       "<table border=\"1\" class=\"dataframe\">\n",
       "  <thead>\n",
       "    <tr style=\"text-align: right;\">\n",
       "      <th></th>\n",
       "      <th>match</th>\n",
       "      <th>original</th>\n",
       "    </tr>\n",
       "  </thead>\n",
       "  <tbody>\n",
       "    <tr>\n",
       "      <th>0</th>\n",
       "      <td>Traveler Accommodation</td>\n",
       "      <td>Hospitality</td>\n",
       "    </tr>\n",
       "    <tr>\n",
       "      <th>1</th>\n",
       "      <td>Architectural, Engineering, &amp; Related Services</td>\n",
       "      <td>Architecture</td>\n",
       "    </tr>\n",
       "    <tr>\n",
       "      <th>2</th>\n",
       "      <td>Management of Companies &amp; Enterprises</td>\n",
       "      <td>Enterprise Resource Planning Software(ERP)</td>\n",
       "    </tr>\n",
       "    <tr>\n",
       "      <th>3</th>\n",
       "      <td>Software Publishers</td>\n",
       "      <td>Network Security Hardware &amp; Software</td>\n",
       "    </tr>\n",
       "    <tr>\n",
       "      <th>4</th>\n",
       "      <td>Glass &amp; Glass Product Manufacturing</td>\n",
       "      <td>Glass &amp; Gases</td>\n",
       "    </tr>\n",
       "  </tbody>\n",
       "</table>\n",
       "</div>"
      ],
      "text/plain": [
       "                                            match  \\\n",
       "0                          Traveler Accommodation   \n",
       "1  Architectural, Engineering, & Related Services   \n",
       "2           Management of Companies & Enterprises   \n",
       "3                             Software Publishers   \n",
       "4             Glass & Glass Product Manufacturing   \n",
       "\n",
       "                                     original  \n",
       "0                                 Hospitality  \n",
       "1                                Architecture  \n",
       "2  Enterprise Resource Planning Software(ERP)  \n",
       "3        Network Security Hardware & Software  \n",
       "4                               Glass & Gases  "
      ]
     },
     "execution_count": 21,
     "metadata": {},
     "output_type": "execute_result"
    }
   ],
   "source": [
    "matchInd = pd.read_csv('match_industry.csv').drop('Unnamed: 0', axis = 1)\n",
    "matchInd.head()"
   ]
  },
  {
   "cell_type": "code",
   "execution_count": 22,
   "metadata": {},
   "outputs": [],
   "source": [
    "matchIndDict = dict(zip(matchInd.original, matchInd.match))"
   ]
  },
  {
   "cell_type": "code",
   "execution_count": 66,
   "metadata": {},
   "outputs": [],
   "source": [
    "def matchDict(row):\n",
    "    if isinstance(row, float): return row\n",
    "    newrow = [x.strip() for x in row]\n",
    "#     print([matchIndDict[x] for x in newrow])\n",
    "    return [matchIndDict[x] for x in newrow]"
   ]
  },
  {
   "cell_type": "code",
   "execution_count": 63,
   "metadata": {},
   "outputs": [],
   "source": [
    "df_ind_split = uc['Industries'].str.replace('and', '&').str.split(',')"
   ]
  },
  {
   "cell_type": "code",
   "execution_count": 67,
   "metadata": {},
   "outputs": [],
   "source": [
    "matchedInd = df_ind_split.apply(matchDict)"
   ]
  },
  {
   "cell_type": "code",
   "execution_count": 68,
   "metadata": {},
   "outputs": [
    {
     "data": {
      "text/plain": [
       "0          [Grantmaking and Giving Services, Business, Pr...\n",
       "1          [Residential Building Construction, Construction]\n",
       "2          [Automotive Repair & Maintenance, Consumer Ser...\n",
       "3          [Scientific Research and Development Services,...\n",
       "4          [Grantmaking and Giving Services, Business, Pr...\n",
       "                                 ...                        \n",
       "1952880    [Grocery and Related Product Merchant Wholesal...\n",
       "1952881    [Computer Systems Design and Related Services,...\n",
       "1952882    [Apparel Accessories & Other Apparel Manufactu...\n",
       "1952883    [Residential Building Construction, Constructi...\n",
       "1952884                  [Satellite Telecommunications, nan]\n",
       "Name: Industries, Length: 1952885, dtype: object"
      ]
     },
     "execution_count": 68,
     "metadata": {},
     "output_type": "execute_result"
    }
   ],
   "source": [
    "matchedInd"
   ]
  },
  {
   "cell_type": "code",
   "execution_count": null,
   "metadata": {},
   "outputs": [],
   "source": []
  },
  {
   "cell_type": "code",
   "execution_count": null,
   "metadata": {},
   "outputs": [],
   "source": []
  },
  {
   "cell_type": "code",
   "execution_count": null,
   "metadata": {},
   "outputs": [],
   "source": []
  },
  {
   "cell_type": "code",
   "execution_count": null,
   "metadata": {},
   "outputs": [],
   "source": []
  },
  {
   "cell_type": "code",
   "execution_count": null,
   "metadata": {},
   "outputs": [],
   "source": []
  },
  {
   "cell_type": "code",
   "execution_count": null,
   "metadata": {},
   "outputs": [],
   "source": []
  },
  {
   "cell_type": "code",
   "execution_count": null,
   "metadata": {},
   "outputs": [],
   "source": []
  },
  {
   "cell_type": "code",
   "execution_count": null,
   "metadata": {},
   "outputs": [],
   "source": []
  },
  {
   "cell_type": "code",
   "execution_count": null,
   "metadata": {},
   "outputs": [],
   "source": []
  }
 ],
 "metadata": {
  "kernelspec": {
   "display_name": "Python 3",
   "language": "python",
   "name": "python3"
  },
  "language_info": {
   "codemirror_mode": {
    "name": "ipython",
    "version": 3
   },
   "file_extension": ".py",
   "mimetype": "text/x-python",
   "name": "python",
   "nbconvert_exporter": "python",
   "pygments_lexer": "ipython3",
   "version": "3.7.4"
  }
 },
 "nbformat": 4,
 "nbformat_minor": 2
}
